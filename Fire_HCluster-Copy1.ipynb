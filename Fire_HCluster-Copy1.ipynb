{
 "cells": [
  {
   "cell_type": "code",
   "execution_count": 74,
   "metadata": {},
   "outputs": [],
   "source": [
    "import pandas as pd\n",
    "import scipy.cluster.hierarchy as sch\n",
    "from sklearn.cluster import AgglomerativeClustering\n",
    "from sklearn.preprocessing import MinMaxScaler\n",
    "from matplotlib import pyplot as plt\n",
    "from sklearn.impute import SimpleImputer\n",
    "import numpy as np\n",
    "# 读取数据"
   ]
  },
  {
   "cell_type": "code",
   "execution_count": 75,
   "metadata": {},
   "outputs": [
    {
     "data": {
      "text/html": [
       "<div>\n",
       "<style scoped>\n",
       "    .dataframe tbody tr th:only-of-type {\n",
       "        vertical-align: middle;\n",
       "    }\n",
       "\n",
       "    .dataframe tbody tr th {\n",
       "        vertical-align: top;\n",
       "    }\n",
       "\n",
       "    .dataframe thead th {\n",
       "        text-align: right;\n",
       "    }\n",
       "</style>\n",
       "<table border=\"1\" class=\"dataframe\">\n",
       "  <thead>\n",
       "    <tr style=\"text-align: right;\">\n",
       "      <th></th>\n",
       "      <th>year</th>\n",
       "      <th>counts</th>\n",
       "      <th>Fatalities</th>\n",
       "      <th>Injuries</th>\n",
       "    </tr>\n",
       "  </thead>\n",
       "  <tbody>\n",
       "    <tr>\n",
       "      <th>0</th>\n",
       "      <td>1966</td>\n",
       "      <td>30436</td>\n",
       "      <td>164</td>\n",
       "      <td>978</td>\n",
       "    </tr>\n",
       "    <tr>\n",
       "      <th>1</th>\n",
       "      <td>1967</td>\n",
       "      <td>32956</td>\n",
       "      <td>127</td>\n",
       "      <td>966</td>\n",
       "    </tr>\n",
       "    <tr>\n",
       "      <th>2</th>\n",
       "      <td>1968</td>\n",
       "      <td>32922</td>\n",
       "      <td>154</td>\n",
       "      <td>1026</td>\n",
       "    </tr>\n",
       "    <tr>\n",
       "      <th>3</th>\n",
       "      <td>1969</td>\n",
       "      <td>43733</td>\n",
       "      <td>167</td>\n",
       "      <td>1106</td>\n",
       "    </tr>\n",
       "    <tr>\n",
       "      <th>4</th>\n",
       "      <td>1970</td>\n",
       "      <td>51835</td>\n",
       "      <td>142</td>\n",
       "      <td>1168</td>\n",
       "    </tr>\n",
       "  </tbody>\n",
       "</table>\n",
       "</div>"
      ],
      "text/plain": [
       "   year  counts  Fatalities  Injuries\n",
       "0  1966   30436         164       978\n",
       "1  1967   32956         127       966\n",
       "2  1968   32922         154      1026\n",
       "3  1969   43733         167      1106\n",
       "4  1970   51835         142      1168"
      ]
     },
     "execution_count": 75,
     "metadata": {},
     "output_type": "execute_result"
    }
   ],
   "source": [
    "dataset = pd.read_csv('fire_counts.csv')\n",
    "dataset.dropna(inplace=True)\n",
    "dataset.head()"
   ]
  },
  {
   "cell_type": "code",
   "execution_count": 76,
   "metadata": {},
   "outputs": [],
   "source": [
    "datanew=dataset.iloc[:,1:]"
   ]
  },
  {
   "cell_type": "code",
   "execution_count": 77,
   "metadata": {},
   "outputs": [
    {
     "data": {
      "text/html": [
       "<div>\n",
       "<style scoped>\n",
       "    .dataframe tbody tr th:only-of-type {\n",
       "        vertical-align: middle;\n",
       "    }\n",
       "\n",
       "    .dataframe tbody tr th {\n",
       "        vertical-align: top;\n",
       "    }\n",
       "\n",
       "    .dataframe thead th {\n",
       "        text-align: right;\n",
       "    }\n",
       "</style>\n",
       "<table border=\"1\" class=\"dataframe\">\n",
       "  <thead>\n",
       "    <tr style=\"text-align: right;\">\n",
       "      <th></th>\n",
       "      <th>counts</th>\n",
       "      <th>Fatalities</th>\n",
       "      <th>Injuries</th>\n",
       "    </tr>\n",
       "  </thead>\n",
       "  <tbody>\n",
       "    <tr>\n",
       "      <th>0</th>\n",
       "      <td>30436</td>\n",
       "      <td>164</td>\n",
       "      <td>978</td>\n",
       "    </tr>\n",
       "    <tr>\n",
       "      <th>1</th>\n",
       "      <td>32956</td>\n",
       "      <td>127</td>\n",
       "      <td>966</td>\n",
       "    </tr>\n",
       "    <tr>\n",
       "      <th>2</th>\n",
       "      <td>32922</td>\n",
       "      <td>154</td>\n",
       "      <td>1026</td>\n",
       "    </tr>\n",
       "    <tr>\n",
       "      <th>3</th>\n",
       "      <td>43733</td>\n",
       "      <td>167</td>\n",
       "      <td>1106</td>\n",
       "    </tr>\n",
       "    <tr>\n",
       "      <th>4</th>\n",
       "      <td>51835</td>\n",
       "      <td>142</td>\n",
       "      <td>1168</td>\n",
       "    </tr>\n",
       "  </tbody>\n",
       "</table>\n",
       "</div>"
      ],
      "text/plain": [
       "   counts  Fatalities  Injuries\n",
       "0   30436         164       978\n",
       "1   32956         127       966\n",
       "2   32922         154      1026\n",
       "3   43733         167      1106\n",
       "4   51835         142      1168"
      ]
     },
     "execution_count": 77,
     "metadata": {},
     "output_type": "execute_result"
    }
   ],
   "source": [
    "datanew.head()"
   ]
  },
  {
   "cell_type": "code",
   "execution_count": 78,
   "metadata": {},
   "outputs": [
    {
     "data": {
      "text/plain": [
       "(55, 3)"
      ]
     },
     "execution_count": 78,
     "metadata": {},
     "output_type": "execute_result"
    }
   ],
   "source": [
    "datanew.shape"
   ]
  },
  {
   "cell_type": "code",
   "execution_count": 79,
   "metadata": {},
   "outputs": [],
   "source": [
    "my_imputer = SimpleImputer()\n",
    "datanew1 = my_imputer.fit_transform(datanew)\n",
    "#datanew1=np.transpose(datanew)"
   ]
  },
  {
   "cell_type": "code",
   "execution_count": 80,
   "metadata": {},
   "outputs": [
    {
     "data": {
      "text/plain": [
       "array([[3.0436e+04, 1.6400e+02, 9.7800e+02],\n",
       "       [3.2956e+04, 1.2700e+02, 9.6600e+02],\n",
       "       [3.2922e+04, 1.5400e+02, 1.0260e+03],\n",
       "       [4.3733e+04, 1.6700e+02, 1.1060e+03],\n",
       "       [5.1835e+04, 1.4200e+02, 1.1680e+03],\n",
       "       [4.2593e+04, 1.5000e+02, 9.3300e+02],\n",
       "       [4.8159e+04, 1.3800e+02, 1.0830e+03],\n",
       "       [4.9142e+04, 1.3900e+02, 1.0720e+03],\n",
       "       [4.6047e+04, 1.7900e+02, 1.1210e+03],\n",
       "       [5.1539e+04, 1.7700e+02, 8.4200e+02],\n",
       "       [6.3524e+04, 1.3500e+02, 9.8600e+02],\n",
       "       [4.4221e+04, 1.3100e+02, 1.0390e+03],\n",
       "       [4.4136e+04, 1.2900e+02, 1.0910e+03],\n",
       "       [5.2331e+04, 1.5100e+02, 1.2460e+03],\n",
       "       [4.6645e+04, 1.9600e+02, 9.5800e+02],\n",
       "       [4.4331e+04, 1.8500e+02, 1.0870e+03],\n",
       "       [4.5215e+04, 1.6700e+02, 1.0890e+03],\n",
       "       [5.0549e+04, 1.6400e+02, 1.3330e+03],\n",
       "       [5.1076e+04, 1.2500e+02, 1.2100e+03],\n",
       "       [5.0326e+04, 1.5400e+02, 1.5210e+03],\n",
       "       [4.6070e+04, 1.2400e+02, 1.5570e+03],\n",
       "       [4.3268e+04, 1.9300e+02, 1.4820e+03],\n",
       "       [4.7733e+04, 1.4600e+02, 1.5010e+03],\n",
       "       [5.6893e+04, 1.3300e+02, 1.6210e+03],\n",
       "       [5.5994e+04, 1.2100e+02, 1.5210e+03],\n",
       "       [4.4184e+04, 1.0400e+02, 1.4570e+03],\n",
       "       [4.1638e+04, 1.2000e+02, 1.4890e+03],\n",
       "       [4.6543e+04, 8.2000e+01, 1.3780e+03],\n",
       "       [4.7693e+04, 8.6000e+01, 1.5110e+03],\n",
       "       [5.5962e+04, 8.3000e+01, 1.1770e+03],\n",
       "       [5.1959e+04, 7.9000e+01, 1.6110e+03],\n",
       "       [4.7678e+04, 9.6000e+01, 1.7180e+03],\n",
       "       [4.1071e+04, 8.0000e+01, 1.7530e+03],\n",
       "       [4.6455e+04, 7.8000e+01, 1.6510e+03],\n",
       "       [4.8554e+04, 5.9000e+01, 1.3690e+03],\n",
       "       [5.5063e+04, 8.1000e+01, 1.3920e+03],\n",
       "       [4.8544e+04, 7.8000e+01, 1.3460e+03],\n",
       "       [5.8233e+04, 8.6000e+01, 1.2980e+03],\n",
       "       [4.0883e+04, 5.2000e+01, 1.1930e+03],\n",
       "       [4.0441e+04, 6.0000e+01, 1.3060e+03],\n",
       "       [3.7113e+04, 5.6000e+01, 1.5150e+03],\n",
       "       [3.3084e+04, 5.1000e+01, 1.4690e+03],\n",
       "       [2.9653e+04, 4.1000e+01, 1.2710e+03],\n",
       "       [2.9591e+04, 5.5000e+01, 1.2360e+03],\n",
       "       [2.7467e+04, 5.9000e+01, 1.2390e+03],\n",
       "       [2.6847e+04, 5.5000e+01, 1.2270e+03],\n",
       "       [2.1443e+04, 4.2000e+01, 1.1530e+03],\n",
       "       [2.1158e+04, 4.9000e+01, 1.0540e+03],\n",
       "       [1.9622e+04, 2.9000e+01, 9.7200e+02],\n",
       "       [2.0923e+04, 3.3000e+01, 9.8400e+02],\n",
       "       [2.0391e+04, 4.6000e+01, 8.8900e+02],\n",
       "       [1.9863e+04, 1.0200e+02, 1.0360e+03],\n",
       "       [1.9675e+04, 4.5000e+01, 8.5800e+02],\n",
       "       [1.7993e+04, 3.6000e+01, 7.9100e+02],\n",
       "       [1.7411e+04, 3.0000e+01, 6.9400e+02]])"
      ]
     },
     "execution_count": 80,
     "metadata": {},
     "output_type": "execute_result"
    }
   ],
   "source": [
    "datanew1"
   ]
  },
  {
   "cell_type": "code",
   "execution_count": 81,
   "metadata": {},
   "outputs": [
    {
     "name": "stdout",
     "output_type": "stream",
     "text": [
      "   counts  Fatalities  Injuries  类别标签\n",
      "0   30436         164       978     1\n",
      "1   32956         127       966     1\n",
      "2   32922         154      1026     1\n",
      "3   43733         167      1106     0\n",
      "4   51835         142      1168     0\n"
     ]
    }
   ],
   "source": [
    "#datanew1\n",
    "# 建立模型\n",
    "model = AgglomerativeClustering(n_clusters=4)\n",
    "model.fit(datanew1)\n",
    "datanew['类别标签'] = model.labels_\n",
    "print(datanew.head())"
   ]
  },
  {
   "cell_type": "code",
   "execution_count": 82,
   "metadata": {},
   "outputs": [
    {
     "data": {
      "image/png": "[encoded data removed]",
      "text/plain": [
       "<Figure size 432x288 with 1 Axes>"
      ]
     },
     "metadata": {
      "needs_background": "light"
     },
     "output_type": "display_data"
    }
   ],
   "source": [
    "# 画图\n",
    "ss = sch.linkage(datanew1,method='ward')\n",
    "#sch.dendrogram(ss)\n",
    "sch.dendrogram(ss,labels=model.labels_)\n",
    "plt.show()"
   ]
  },
  {
   "cell_type": "code",
   "execution_count": 83,
   "metadata": {},
   "outputs": [
    {
     "data": {
      "text/plain": [
       "<matplotlib.lines.Line2D at 0x7ff08d9ff390>"
      ]
     },
     "execution_count": 83,
     "metadata": {},
     "output_type": "execute_result"
    },
    {
     "data": {
      "image/png": "[encoded data removed]",
      "text/plain": [
       "<Figure size 432x288 with 1 Axes>"
      ]
     },
     "metadata": {
      "needs_background": "light"
     },
     "output_type": "display_data"
    }
   ],
   "source": [
    "ss = sch.linkage(datanew1,method='ward')\n",
    "sch.dendrogram(ss)\n",
    "plt.axhline(y=28000, color='r', linestyle='--')"
   ]
  },
  {
   "cell_type": "code",
   "execution_count": 64,
   "metadata": {},
   "outputs": [
    {
     "name": "stdout",
     "output_type": "stream",
     "text": [
      "0\t1\n",
      "1\t1\n",
      "2\t1\n",
      "3\t0\n",
      "4\t0\n",
      "5\t0\n",
      "6\t0\n",
      "7\t0\n",
      "8\t0\n",
      "9\t0\n",
      "10\t2\n",
      "11\t0\n",
      "12\t0\n",
      "13\t0\n",
      "14\t0\n",
      "15\t0\n",
      "16\t0\n",
      "17\t0\n",
      "18\t0\n",
      "19\t0\n",
      "20\t0\n",
      "21\t0\n",
      "22\t0\n",
      "23\t2\n",
      "24\t2\n",
      "25\t0\n",
      "26\t0\n",
      "27\t0\n",
      "28\t0\n",
      "29\t2\n",
      "30\t0\n",
      "31\t0\n",
      "32\t0\n",
      "33\t0\n",
      "34\t0\n",
      "35\t2\n",
      "36\t0\n",
      "37\t2\n",
      "38\t0\n",
      "39\t0\n",
      "40\t0\n",
      "41\t1\n",
      "42\t1\n",
      "43\t1\n",
      "44\t1\n",
      "45\t1\n",
      "46\t3\n",
      "47\t3\n",
      "48\t3\n",
      "49\t3\n",
      "50\t3\n",
      "51\t3\n",
      "52\t3\n",
      "53\t3\n",
      "54\t3\n"
     ]
    }
   ],
   "source": [
    "h_index = model.labels_#行标签\n",
    "user_index = list(datanew.index.values)#行标签\n",
    "for i in range(h_index.shape[0]):\n",
    "    print(user_index[i],end='\\t')\n",
    "    print(h_index[i])"
   ]
  },
  {
   "cell_type": "code",
   "execution_count": null,
   "metadata": {},
   "outputs": [],
   "source": []
  },
  {
   "cell_type": "code",
   "execution_count": null,
   "metadata": {},
   "outputs": [],
   "source": []
  },
  {
   "cell_type": "code",
   "execution_count": null,
   "metadata": {},
   "outputs": [],
   "source": []
  },
  {
   "cell_type": "code",
   "execution_count": null,
   "metadata": {},
   "outputs": [],
   "source": []
  },
  {
   "cell_type": "code",
   "execution_count": null,
   "metadata": {},
   "outputs": [],
   "source": []
  },
  {
   "cell_type": "code",
   "execution_count": null,
   "metadata": {},
   "outputs": [],
   "source": []
  },
  {
   "cell_type": "code",
   "execution_count": 49,
   "metadata": {},
   "outputs": [
    {
     "data": {
      "text/html": [
       "<div>\n",
       "<style scoped>\n",
       "    .dataframe tbody tr th:only-of-type {\n",
       "        vertical-align: middle;\n",
       "    }\n",
       "\n",
       "    .dataframe tbody tr th {\n",
       "        vertical-align: top;\n",
       "    }\n",
       "\n",
       "    .dataframe thead th {\n",
       "        text-align: right;\n",
       "    }\n",
       "</style>\n",
       "<table border=\"1\" class=\"dataframe\">\n",
       "  <thead>\n",
       "    <tr style=\"text-align: right;\">\n",
       "      <th></th>\n",
       "      <th>year</th>\n",
       "      <th>counts</th>\n",
       "      <th>Fatalities</th>\n",
       "      <th>Injuries</th>\n",
       "    </tr>\n",
       "  </thead>\n",
       "  <tbody>\n",
       "    <tr>\n",
       "      <th>0</th>\n",
       "      <td>1966</td>\n",
       "      <td>30436</td>\n",
       "      <td>164</td>\n",
       "      <td>978</td>\n",
       "    </tr>\n",
       "    <tr>\n",
       "      <th>1</th>\n",
       "      <td>1967</td>\n",
       "      <td>32956</td>\n",
       "      <td>127</td>\n",
       "      <td>966</td>\n",
       "    </tr>\n",
       "    <tr>\n",
       "      <th>2</th>\n",
       "      <td>1968</td>\n",
       "      <td>32922</td>\n",
       "      <td>154</td>\n",
       "      <td>1026</td>\n",
       "    </tr>\n",
       "    <tr>\n",
       "      <th>3</th>\n",
       "      <td>1969</td>\n",
       "      <td>43733</td>\n",
       "      <td>167</td>\n",
       "      <td>1106</td>\n",
       "    </tr>\n",
       "    <tr>\n",
       "      <th>4</th>\n",
       "      <td>1970</td>\n",
       "      <td>51835</td>\n",
       "      <td>142</td>\n",
       "      <td>1168</td>\n",
       "    </tr>\n",
       "  </tbody>\n",
       "</table>\n",
       "</div>"
      ],
      "text/plain": [
       "   year  counts  Fatalities  Injuries\n",
       "0  1966   30436         164       978\n",
       "1  1967   32956         127       966\n",
       "2  1968   32922         154      1026\n",
       "3  1969   43733         167      1106\n",
       "4  1970   51835         142      1168"
      ]
     },
     "execution_count": 49,
     "metadata": {},
     "output_type": "execute_result"
    }
   ],
   "source": [
    "dataset = pd.read_csv('fire_counts.csv')\n",
    "dataset.dropna(inplace=True)\n",
    "dataset.head()"
   ]
  },
  {
   "cell_type": "code",
   "execution_count": 50,
   "metadata": {},
   "outputs": [
    {
     "data": {
      "text/plain": [
       "(55, 4)"
      ]
     },
     "execution_count": 50,
     "metadata": {},
     "output_type": "execute_result"
    }
   ],
   "source": [
    "dataset.shape"
   ]
  },
  {
   "cell_type": "code",
   "execution_count": 33,
   "metadata": {},
   "outputs": [
    {
     "data": {
      "text/plain": [
       "(4, 55)"
      ]
     },
     "execution_count": 33,
     "metadata": {},
     "output_type": "execute_result"
    }
   ],
   "source": [
    "datanew=dataset.iloc[:,:]\n",
    "datanew=np.transpose(datanew)\n",
    "datanew.shape"
   ]
  },
  {
   "cell_type": "code",
   "execution_count": 39,
   "metadata": {},
   "outputs": [
    {
     "data": {
      "text/html": [
       "<div>\n",
       "<style scoped>\n",
       "    .dataframe tbody tr th:only-of-type {\n",
       "        vertical-align: middle;\n",
       "    }\n",
       "\n",
       "    .dataframe tbody tr th {\n",
       "        vertical-align: top;\n",
       "    }\n",
       "\n",
       "    .dataframe thead th {\n",
       "        text-align: right;\n",
       "    }\n",
       "</style>\n",
       "<table border=\"1\" class=\"dataframe\">\n",
       "  <thead>\n",
       "    <tr style=\"text-align: right;\">\n",
       "      <th></th>\n",
       "      <th>0</th>\n",
       "      <th>1</th>\n",
       "      <th>2</th>\n",
       "      <th>3</th>\n",
       "      <th>4</th>\n",
       "      <th>5</th>\n",
       "      <th>6</th>\n",
       "      <th>7</th>\n",
       "      <th>8</th>\n",
       "      <th>9</th>\n",
       "      <th>...</th>\n",
       "      <th>45</th>\n",
       "      <th>46</th>\n",
       "      <th>47</th>\n",
       "      <th>48</th>\n",
       "      <th>49</th>\n",
       "      <th>50</th>\n",
       "      <th>51</th>\n",
       "      <th>52</th>\n",
       "      <th>53</th>\n",
       "      <th>54</th>\n",
       "    </tr>\n",
       "  </thead>\n",
       "  <tbody>\n",
       "    <tr>\n",
       "      <th>year</th>\n",
       "      <td>1966</td>\n",
       "      <td>1967</td>\n",
       "      <td>1968</td>\n",
       "      <td>1969</td>\n",
       "      <td>1970</td>\n",
       "      <td>1971</td>\n",
       "      <td>1972</td>\n",
       "      <td>1973</td>\n",
       "      <td>1974</td>\n",
       "      <td>1975</td>\n",
       "      <td>...</td>\n",
       "      <td>2011</td>\n",
       "      <td>2012</td>\n",
       "      <td>2013</td>\n",
       "      <td>2014</td>\n",
       "      <td>2015</td>\n",
       "      <td>2016</td>\n",
       "      <td>2017</td>\n",
       "      <td>2018</td>\n",
       "      <td>2019</td>\n",
       "      <td>2020</td>\n",
       "    </tr>\n",
       "    <tr>\n",
       "      <th>counts</th>\n",
       "      <td>30436</td>\n",
       "      <td>32956</td>\n",
       "      <td>32922</td>\n",
       "      <td>43733</td>\n",
       "      <td>51835</td>\n",
       "      <td>42593</td>\n",
       "      <td>48159</td>\n",
       "      <td>49142</td>\n",
       "      <td>46047</td>\n",
       "      <td>51539</td>\n",
       "      <td>...</td>\n",
       "      <td>26847</td>\n",
       "      <td>21443</td>\n",
       "      <td>21158</td>\n",
       "      <td>19622</td>\n",
       "      <td>20923</td>\n",
       "      <td>20391</td>\n",
       "      <td>19863</td>\n",
       "      <td>19675</td>\n",
       "      <td>17993</td>\n",
       "      <td>17411</td>\n",
       "    </tr>\n",
       "    <tr>\n",
       "      <th>Fatalities</th>\n",
       "      <td>164</td>\n",
       "      <td>127</td>\n",
       "      <td>154</td>\n",
       "      <td>167</td>\n",
       "      <td>142</td>\n",
       "      <td>150</td>\n",
       "      <td>138</td>\n",
       "      <td>139</td>\n",
       "      <td>179</td>\n",
       "      <td>177</td>\n",
       "      <td>...</td>\n",
       "      <td>55</td>\n",
       "      <td>42</td>\n",
       "      <td>49</td>\n",
       "      <td>29</td>\n",
       "      <td>33</td>\n",
       "      <td>46</td>\n",
       "      <td>102</td>\n",
       "      <td>45</td>\n",
       "      <td>36</td>\n",
       "      <td>30</td>\n",
       "    </tr>\n",
       "    <tr>\n",
       "      <th>Injuries</th>\n",
       "      <td>978</td>\n",
       "      <td>966</td>\n",
       "      <td>1026</td>\n",
       "      <td>1106</td>\n",
       "      <td>1168</td>\n",
       "      <td>933</td>\n",
       "      <td>1083</td>\n",
       "      <td>1072</td>\n",
       "      <td>1121</td>\n",
       "      <td>842</td>\n",
       "      <td>...</td>\n",
       "      <td>1227</td>\n",
       "      <td>1153</td>\n",
       "      <td>1054</td>\n",
       "      <td>972</td>\n",
       "      <td>984</td>\n",
       "      <td>889</td>\n",
       "      <td>1036</td>\n",
       "      <td>858</td>\n",
       "      <td>791</td>\n",
       "      <td>694</td>\n",
       "    </tr>\n",
       "  </tbody>\n",
       "</table>\n",
       "<p>4 rows × 55 columns</p>\n",
       "</div>"
      ],
      "text/plain": [
       "               0      1      2      3      4      5      6      7      8   \\\n",
       "year         1966   1967   1968   1969   1970   1971   1972   1973   1974   \n",
       "counts      30436  32956  32922  43733  51835  42593  48159  49142  46047   \n",
       "Fatalities    164    127    154    167    142    150    138    139    179   \n",
       "Injuries      978    966   1026   1106   1168    933   1083   1072   1121   \n",
       "\n",
       "               9   ...     45     46     47     48     49     50     51  \\\n",
       "year         1975  ...   2011   2012   2013   2014   2015   2016   2017   \n",
       "counts      51539  ...  26847  21443  21158  19622  20923  20391  19863   \n",
       "Fatalities    177  ...     55     42     49     29     33     46    102   \n",
       "Injuries      842  ...   1227   1153   1054    972    984    889   1036   \n",
       "\n",
       "               52     53     54  \n",
       "year         2018   2019   2020  \n",
       "counts      19675  17993  17411  \n",
       "Fatalities     45     36     30  \n",
       "Injuries      858    791    694  \n",
       "\n",
       "[4 rows x 55 columns]"
      ]
     },
     "execution_count": 39,
     "metadata": {},
     "output_type": "execute_result"
    }
   ],
   "source": [
    "datanew"
   ]
  },
  {
   "cell_type": "code",
   "execution_count": 51,
   "metadata": {},
   "outputs": [],
   "source": [
    "my_imputer = SimpleImputer()\n",
    "datanew1 = my_imputer.fit_transform(dataset)\n",
    "#datanew1=np.transpose(datanew)"
   ]
  },
  {
   "cell_type": "code",
   "execution_count": 52,
   "metadata": {},
   "outputs": [
    {
     "data": {
      "text/plain": [
       "array([[1.9660e+03, 3.0436e+04, 1.6400e+02, 9.7800e+02],\n",
       "       [1.9670e+03, 3.2956e+04, 1.2700e+02, 9.6600e+02],\n",
       "       [1.9680e+03, 3.2922e+04, 1.5400e+02, 1.0260e+03],\n",
       "       [1.9690e+03, 4.3733e+04, 1.6700e+02, 1.1060e+03],\n",
       "       [1.9700e+03, 5.1835e+04, 1.4200e+02, 1.1680e+03],\n",
       "       [1.9710e+03, 4.2593e+04, 1.5000e+02, 9.3300e+02],\n",
       "       [1.9720e+03, 4.8159e+04, 1.3800e+02, 1.0830e+03],\n",
       "       [1.9730e+03, 4.9142e+04, 1.3900e+02, 1.0720e+03],\n",
       "       [1.9740e+03, 4.6047e+04, 1.7900e+02, 1.1210e+03],\n",
       "       [1.9750e+03, 5.1539e+04, 1.7700e+02, 8.4200e+02],\n",
       "       [1.9760e+03, 6.3524e+04, 1.3500e+02, 9.8600e+02],\n",
       "       [1.9770e+03, 4.4221e+04, 1.3100e+02, 1.0390e+03],\n",
       "       [1.9780e+03, 4.4136e+04, 1.2900e+02, 1.0910e+03],\n",
       "       [1.9790e+03, 5.2331e+04, 1.5100e+02, 1.2460e+03],\n",
       "       [1.9800e+03, 4.6645e+04, 1.9600e+02, 9.5800e+02],\n",
       "       [1.9810e+03, 4.4331e+04, 1.8500e+02, 1.0870e+03],\n",
       "       [1.9820e+03, 4.5215e+04, 1.6700e+02, 1.0890e+03],\n",
       "       [1.9830e+03, 5.0549e+04, 1.6400e+02, 1.3330e+03],\n",
       "       [1.9840e+03, 5.1076e+04, 1.2500e+02, 1.2100e+03],\n",
       "       [1.9850e+03, 5.0326e+04, 1.5400e+02, 1.5210e+03],\n",
       "       [1.9860e+03, 4.6070e+04, 1.2400e+02, 1.5570e+03],\n",
       "       [1.9870e+03, 4.3268e+04, 1.9300e+02, 1.4820e+03],\n",
       "       [1.9880e+03, 4.7733e+04, 1.4600e+02, 1.5010e+03],\n",
       "       [1.9890e+03, 5.6893e+04, 1.3300e+02, 1.6210e+03],\n",
       "       [1.9900e+03, 5.5994e+04, 1.2100e+02, 1.5210e+03],\n",
       "       [1.9910e+03, 4.4184e+04, 1.0400e+02, 1.4570e+03],\n",
       "       [1.9920e+03, 4.1638e+04, 1.2000e+02, 1.4890e+03],\n",
       "       [1.9930e+03, 4.6543e+04, 8.2000e+01, 1.3780e+03],\n",
       "       [1.9940e+03, 4.7693e+04, 8.6000e+01, 1.5110e+03],\n",
       "       [1.9950e+03, 5.5962e+04, 8.3000e+01, 1.1770e+03],\n",
       "       [1.9960e+03, 5.1959e+04, 7.9000e+01, 1.6110e+03],\n",
       "       [1.9970e+03, 4.7678e+04, 9.6000e+01, 1.7180e+03],\n",
       "       [1.9980e+03, 4.1071e+04, 8.0000e+01, 1.7530e+03],\n",
       "       [1.9990e+03, 4.6455e+04, 7.8000e+01, 1.6510e+03],\n",
       "       [2.0000e+03, 4.8554e+04, 5.9000e+01, 1.3690e+03],\n",
       "       [2.0010e+03, 5.5063e+04, 8.1000e+01, 1.3920e+03],\n",
       "       [2.0020e+03, 4.8544e+04, 7.8000e+01, 1.3460e+03],\n",
       "       [2.0030e+03, 5.8233e+04, 8.6000e+01, 1.2980e+03],\n",
       "       [2.0040e+03, 4.0883e+04, 5.2000e+01, 1.1930e+03],\n",
       "       [2.0050e+03, 4.0441e+04, 6.0000e+01, 1.3060e+03],\n",
       "       [2.0060e+03, 3.7113e+04, 5.6000e+01, 1.5150e+03],\n",
       "       [2.0070e+03, 3.3084e+04, 5.1000e+01, 1.4690e+03],\n",
       "       [2.0080e+03, 2.9653e+04, 4.1000e+01, 1.2710e+03],\n",
       "       [2.0090e+03, 2.9591e+04, 5.5000e+01, 1.2360e+03],\n",
       "       [2.0100e+03, 2.7467e+04, 5.9000e+01, 1.2390e+03],\n",
       "       [2.0110e+03, 2.6847e+04, 5.5000e+01, 1.2270e+03],\n",
       "       [2.0120e+03, 2.1443e+04, 4.2000e+01, 1.1530e+03],\n",
       "       [2.0130e+03, 2.1158e+04, 4.9000e+01, 1.0540e+03],\n",
       "       [2.0140e+03, 1.9622e+04, 2.9000e+01, 9.7200e+02],\n",
       "       [2.0150e+03, 2.0923e+04, 3.3000e+01, 9.8400e+02],\n",
       "       [2.0160e+03, 2.0391e+04, 4.6000e+01, 8.8900e+02],\n",
       "       [2.0170e+03, 1.9863e+04, 1.0200e+02, 1.0360e+03],\n",
       "       [2.0180e+03, 1.9675e+04, 4.5000e+01, 8.5800e+02],\n",
       "       [2.0190e+03, 1.7993e+04, 3.6000e+01, 7.9100e+02],\n",
       "       [2.0200e+03, 1.7411e+04, 3.0000e+01, 6.9400e+02]])"
      ]
     },
     "execution_count": 52,
     "metadata": {},
     "output_type": "execute_result"
    }
   ],
   "source": [
    "datanew1"
   ]
  },
  {
   "cell_type": "code",
   "execution_count": 53,
   "metadata": {},
   "outputs": [
    {
     "name": "stdout",
     "output_type": "stream",
     "text": [
      "   year  counts  Fatalities  Injuries  类别标签\n",
      "0  1966   30436         164       978     1\n",
      "1  1967   32956         127       966     1\n",
      "2  1968   32922         154      1026     1\n",
      "3  1969   43733         167      1106     0\n",
      "4  1970   51835         142      1168     0\n"
     ]
    }
   ],
   "source": [
    "#datanew1\n",
    "# 建立模型\n",
    "model = AgglomerativeClustering(n_clusters=4)\n",
    "model.fit(datanew1)\n",
    "dataset['类别标签'] = model.labels_\n",
    "print(dataset.head())"
   ]
  },
  {
   "cell_type": "code",
   "execution_count": 54,
   "metadata": {},
   "outputs": [
    {
     "data": {
      "image/png": "[encoded data removed]",
      "text/plain": [
       "<Figure size 432x288 with 1 Axes>"
      ]
     },
     "metadata": {
      "needs_background": "light"
     },
     "output_type": "display_data"
    }
   ],
   "source": [
    "# 画图\n",
    "ss = sch.linkage(datanew1,method='ward')\n",
    "#sch.dendrogram(ss)\n",
    "sch.dendrogram(ss,labels=model.labels_)\n",
    "plt.show()"
   ]
  },
  {
   "cell_type": "code",
   "execution_count": 55,
   "metadata": {},
   "outputs": [
    {
     "name": "stdout",
     "output_type": "stream",
     "text": [
      "0\t1\n",
      "1\t1\n",
      "2\t1\n",
      "3\t0\n",
      "4\t0\n",
      "5\t0\n",
      "6\t0\n",
      "7\t0\n",
      "8\t0\n",
      "9\t0\n",
      "10\t2\n",
      "11\t0\n",
      "12\t0\n",
      "13\t0\n",
      "14\t0\n",
      "15\t0\n",
      "16\t0\n",
      "17\t0\n",
      "18\t0\n",
      "19\t0\n",
      "20\t0\n",
      "21\t0\n",
      "22\t0\n",
      "23\t2\n",
      "24\t2\n",
      "25\t0\n",
      "26\t0\n",
      "27\t0\n",
      "28\t0\n",
      "29\t2\n",
      "30\t0\n",
      "31\t0\n",
      "32\t0\n",
      "33\t0\n",
      "34\t0\n",
      "35\t2\n",
      "36\t0\n",
      "37\t2\n",
      "38\t0\n",
      "39\t0\n",
      "40\t0\n",
      "41\t1\n",
      "42\t1\n",
      "43\t1\n",
      "44\t1\n",
      "45\t1\n",
      "46\t3\n",
      "47\t3\n",
      "48\t3\n",
      "49\t3\n",
      "50\t3\n",
      "51\t3\n",
      "52\t3\n",
      "53\t3\n",
      "54\t3\n"
     ]
    }
   ],
   "source": [
    "h_index = model.labels_#行标签\n",
    "user_index = list(dataset.index.values)#行标签\n",
    "for i in range(h_index.shape[0]):\n",
    "    print(user_index[i],end='\\t')\n",
    "    print(h_index[i])"
   ]
  },
  {
   "cell_type": "code",
   "execution_count": 38,
   "metadata": {},
   "outputs": [
    {
     "ename": "ValueError",
     "evalue": "n_components=5 must be between 0 and min(n_samples, n_features)=4 with svd_solver='full'",
     "output_type": "error",
     "traceback": [
      "\u001b[0;31m---------------------------------------------------------------------------\u001b[0m",
      "\u001b[0;31mValueError\u001b[0m                                Traceback (most recent call last)",
      "\u001b[0;32m<ipython-input-38-6ad75aba2afe>\u001b[0m in \u001b[0;36m<module>\u001b[0;34m\u001b[0m\n\u001b[1;32m      5\u001b[0m \u001b[0ma\u001b[0m\u001b[0;34m=\u001b[0m\u001b[0;34m[\u001b[0m\u001b[0;34m]\u001b[0m\u001b[0;34m\u001b[0m\u001b[0;34m\u001b[0m\u001b[0m\n\u001b[1;32m      6\u001b[0m \u001b[0;32mfor\u001b[0m \u001b[0mi\u001b[0m \u001b[0;32min\u001b[0m \u001b[0mrange\u001b[0m\u001b[0;34m(\u001b[0m\u001b[0;36m1\u001b[0m\u001b[0;34m,\u001b[0m\u001b[0;36m40\u001b[0m\u001b[0;34m)\u001b[0m\u001b[0;34m:\u001b[0m\u001b[0;34m\u001b[0m\u001b[0;34m\u001b[0m\u001b[0m\n\u001b[0;32m----> 7\u001b[0;31m     \u001b[0mpca\u001b[0m\u001b[0;34m=\u001b[0m\u001b[0mPCA\u001b[0m\u001b[0;34m(\u001b[0m\u001b[0mn_components\u001b[0m\u001b[0;34m=\u001b[0m\u001b[0mi\u001b[0m\u001b[0;34m)\u001b[0m\u001b[0;34m.\u001b[0m\u001b[0mfit\u001b[0m\u001b[0;34m(\u001b[0m\u001b[0mdatanew1\u001b[0m\u001b[0;34m)\u001b[0m\u001b[0;34m\u001b[0m\u001b[0;34m\u001b[0m\u001b[0m\n\u001b[0m\u001b[1;32m      8\u001b[0m     \u001b[0mexplained_variance\u001b[0m\u001b[0;34m=\u001b[0m\u001b[0mpca\u001b[0m\u001b[0;34m.\u001b[0m\u001b[0mexplained_variance_ratio_\u001b[0m\u001b[0;34m\u001b[0m\u001b[0;34m\u001b[0m\u001b[0m\n\u001b[1;32m      9\u001b[0m     \u001b[0ma\u001b[0m\u001b[0;34m.\u001b[0m\u001b[0mappend\u001b[0m\u001b[0;34m(\u001b[0m\u001b[0mexplained_variance\u001b[0m\u001b[0;34m.\u001b[0m\u001b[0msum\u001b[0m\u001b[0;34m(\u001b[0m\u001b[0;34m)\u001b[0m\u001b[0;34m)\u001b[0m\u001b[0;34m\u001b[0m\u001b[0;34m\u001b[0m\u001b[0m\n",
      "\u001b[0;32m/opt/conda/envs/sds2020/lib/python3.7/site-packages/sklearn/decomposition/_pca.py\u001b[0m in \u001b[0;36mfit\u001b[0;34m(self, X, y)\u001b[0m\n\u001b[1;32m    349\u001b[0m             \u001b[0mReturns\u001b[0m \u001b[0mthe\u001b[0m \u001b[0minstance\u001b[0m \u001b[0mitself\u001b[0m\u001b[0;34m.\u001b[0m\u001b[0;34m\u001b[0m\u001b[0;34m\u001b[0m\u001b[0m\n\u001b[1;32m    350\u001b[0m         \"\"\"\n\u001b[0;32m--> 351\u001b[0;31m         \u001b[0mself\u001b[0m\u001b[0;34m.\u001b[0m\u001b[0m_fit\u001b[0m\u001b[0;34m(\u001b[0m\u001b[0mX\u001b[0m\u001b[0;34m)\u001b[0m\u001b[0;34m\u001b[0m\u001b[0;34m\u001b[0m\u001b[0m\n\u001b[0m\u001b[1;32m    352\u001b[0m         \u001b[0;32mreturn\u001b[0m \u001b[0mself\u001b[0m\u001b[0;34m\u001b[0m\u001b[0;34m\u001b[0m\u001b[0m\n\u001b[1;32m    353\u001b[0m \u001b[0;34m\u001b[0m\u001b[0m\n",
      "\u001b[0;32m/opt/conda/envs/sds2020/lib/python3.7/site-packages/sklearn/decomposition/_pca.py\u001b[0m in \u001b[0;36m_fit\u001b[0;34m(self, X)\u001b[0m\n\u001b[1;32m    421\u001b[0m         \u001b[0;31m# Call different fits for either full or truncated SVD\u001b[0m\u001b[0;34m\u001b[0m\u001b[0;34m\u001b[0m\u001b[0;34m\u001b[0m\u001b[0m\n\u001b[1;32m    422\u001b[0m         \u001b[0;32mif\u001b[0m \u001b[0mself\u001b[0m\u001b[0;34m.\u001b[0m\u001b[0m_fit_svd_solver\u001b[0m \u001b[0;34m==\u001b[0m \u001b[0;34m'full'\u001b[0m\u001b[0;34m:\u001b[0m\u001b[0;34m\u001b[0m\u001b[0;34m\u001b[0m\u001b[0m\n\u001b[0;32m--> 423\u001b[0;31m             \u001b[0;32mreturn\u001b[0m \u001b[0mself\u001b[0m\u001b[0;34m.\u001b[0m\u001b[0m_fit_full\u001b[0m\u001b[0;34m(\u001b[0m\u001b[0mX\u001b[0m\u001b[0;34m,\u001b[0m \u001b[0mn_components\u001b[0m\u001b[0;34m)\u001b[0m\u001b[0;34m\u001b[0m\u001b[0;34m\u001b[0m\u001b[0m\n\u001b[0m\u001b[1;32m    424\u001b[0m         \u001b[0;32melif\u001b[0m \u001b[0mself\u001b[0m\u001b[0;34m.\u001b[0m\u001b[0m_fit_svd_solver\u001b[0m \u001b[0;32min\u001b[0m \u001b[0;34m[\u001b[0m\u001b[0;34m'arpack'\u001b[0m\u001b[0;34m,\u001b[0m \u001b[0;34m'randomized'\u001b[0m\u001b[0;34m]\u001b[0m\u001b[0;34m:\u001b[0m\u001b[0;34m\u001b[0m\u001b[0;34m\u001b[0m\u001b[0m\n\u001b[1;32m    425\u001b[0m             \u001b[0;32mreturn\u001b[0m \u001b[0mself\u001b[0m\u001b[0;34m.\u001b[0m\u001b[0m_fit_truncated\u001b[0m\u001b[0;34m(\u001b[0m\u001b[0mX\u001b[0m\u001b[0;34m,\u001b[0m \u001b[0mn_components\u001b[0m\u001b[0;34m,\u001b[0m \u001b[0mself\u001b[0m\u001b[0;34m.\u001b[0m\u001b[0m_fit_svd_solver\u001b[0m\u001b[0;34m)\u001b[0m\u001b[0;34m\u001b[0m\u001b[0;34m\u001b[0m\u001b[0m\n",
      "\u001b[0;32m/opt/conda/envs/sds2020/lib/python3.7/site-packages/sklearn/decomposition/_pca.py\u001b[0m in \u001b[0;36m_fit_full\u001b[0;34m(self, X, n_components)\u001b[0m\n\u001b[1;32m    440\u001b[0m                              \u001b[0;34m\"min(n_samples, n_features)=%r with \"\u001b[0m\u001b[0;34m\u001b[0m\u001b[0;34m\u001b[0m\u001b[0m\n\u001b[1;32m    441\u001b[0m                              \u001b[0;34m\"svd_solver='full'\"\u001b[0m\u001b[0;34m\u001b[0m\u001b[0;34m\u001b[0m\u001b[0m\n\u001b[0;32m--> 442\u001b[0;31m                              % (n_components, min(n_samples, n_features)))\n\u001b[0m\u001b[1;32m    443\u001b[0m         \u001b[0;32melif\u001b[0m \u001b[0mn_components\u001b[0m \u001b[0;34m>=\u001b[0m \u001b[0;36m1\u001b[0m\u001b[0;34m:\u001b[0m\u001b[0;34m\u001b[0m\u001b[0;34m\u001b[0m\u001b[0m\n\u001b[1;32m    444\u001b[0m             \u001b[0;32mif\u001b[0m \u001b[0;32mnot\u001b[0m \u001b[0misinstance\u001b[0m\u001b[0;34m(\u001b[0m\u001b[0mn_components\u001b[0m\u001b[0;34m,\u001b[0m \u001b[0mnumbers\u001b[0m\u001b[0;34m.\u001b[0m\u001b[0mIntegral\u001b[0m\u001b[0;34m)\u001b[0m\u001b[0;34m:\u001b[0m\u001b[0;34m\u001b[0m\u001b[0;34m\u001b[0m\u001b[0m\n",
      "\u001b[0;31mValueError\u001b[0m: n_components=5 must be between 0 and min(n_samples, n_features)=4 with svd_solver='full'"
     ]
    },
    {
     "data": {
      "text/plain": [
       "<Figure size 432x288 with 0 Axes>"
      ]
     },
     "metadata": {},
     "output_type": "display_data"
    }
   ],
   "source": [
    "from sklearn.decomposition import PCA\n",
    "import matplotlib.pyplot as plt\n",
    "pca = PCA().fit(datanew1)\n",
    "plt.figure()\n",
    "a=[]\n",
    "for i in range(1,40):\n",
    "    pca=PCA(n_components=i).fit(datanew1)\n",
    "    explained_variance=pca.explained_variance_ratio_\n",
    "    a.append(explained_variance.sum())\n",
    "plt.plot(a)\n",
    "plt.xlabel(\"Number of Components\")\n",
    "plt.ylabel(\"Variance(%)\")\n",
    "plt.title(\"Pulsar Dataset Explained Variance\")\n",
    "plt.show()"
   ]
  },
  {
   "cell_type": "code",
   "execution_count": null,
   "metadata": {},
   "outputs": [],
   "source": []
  },
  {
   "cell_type": "code",
   "execution_count": null,
   "metadata": {},
   "outputs": [],
   "source": [
    "#datanew1\n",
    "# 建立模型\n",
    "model = AgglomerativeClustering(n_clusters=4)\n",
    "model.fit(df)\n",
    "ps['类别标签'] = model.labels_\n",
    "print(ps.head())"
   ]
  },
  {
   "cell_type": "code",
   "execution_count": 25,
   "metadata": {},
   "outputs": [
    {
     "name": "stdout",
     "output_type": "stream",
     "text": [
      "               0      1      2      3      4      5      6      7      8   \\\n",
      "year         1966   1967   1968   1969   1970   1971   1972   1973   1974   \n",
      "counts      30436  32956  32922  43733  51835  42593  48159  49142  46047   \n",
      "Fatalities    164    127    154    167    142    150    138    139    179   \n",
      "Injuries      978    966   1026   1106   1168    933   1083   1072   1121   \n",
      "\n",
      "               9   ...     45     46     47     48     49     50     51  \\\n",
      "year         1975  ...   2011   2012   2013   2014   2015   2016   2017   \n",
      "counts      51539  ...  26847  21443  21158  19622  20923  20391  19863   \n",
      "Fatalities    177  ...     55     42     49     29     33     46    102   \n",
      "Injuries      842  ...   1227   1153   1054    972    984    889   1036   \n",
      "\n",
      "               52     53     54  \n",
      "year         2018   2019   2020  \n",
      "counts      19675  17993  17411  \n",
      "Fatalities     45     36     30  \n",
      "Injuries      858    791    694  \n",
      "\n",
      "[4 rows x 55 columns]\n"
     ]
    }
   ],
   "source": [
    "import pandas as pd\n",
    "import scipy.cluster.hierarchy as sch\n",
    "from sklearn.cluster import AgglomerativeClustering\n",
    "from sklearn.preprocessing import MinMaxScaler\n",
    "from matplotlib import pyplot as plt\n",
    "from sklearn.impute import SimpleImputer\n",
    "import numpy as np\n",
    "# 读取数据\n",
    "data = pd.read_csv('fire_counts.csv')\n",
    "data = data.iloc[:,:]\n",
    "data=np.transpose(data)\n",
    "print(data.head())\n",
    "df = MinMaxScaler().fit_transform(data)"
   ]
  },
  {
   "cell_type": "code",
   "execution_count": 37,
   "metadata": {},
   "outputs": [
    {
     "ename": "ValueError",
     "evalue": "n_components=5 must be between 0 and min(n_samples, n_features)=4 with svd_solver='full'",
     "output_type": "error",
     "traceback": [
      "\u001b[0;31m---------------------------------------------------------------------------\u001b[0m",
      "\u001b[0;31mValueError\u001b[0m                                Traceback (most recent call last)",
      "\u001b[0;32m<ipython-input-37-6ad75aba2afe>\u001b[0m in \u001b[0;36m<module>\u001b[0;34m\u001b[0m\n\u001b[1;32m      5\u001b[0m \u001b[0ma\u001b[0m\u001b[0;34m=\u001b[0m\u001b[0;34m[\u001b[0m\u001b[0;34m]\u001b[0m\u001b[0;34m\u001b[0m\u001b[0;34m\u001b[0m\u001b[0m\n\u001b[1;32m      6\u001b[0m \u001b[0;32mfor\u001b[0m \u001b[0mi\u001b[0m \u001b[0;32min\u001b[0m \u001b[0mrange\u001b[0m\u001b[0;34m(\u001b[0m\u001b[0;36m1\u001b[0m\u001b[0;34m,\u001b[0m\u001b[0;36m40\u001b[0m\u001b[0;34m)\u001b[0m\u001b[0;34m:\u001b[0m\u001b[0;34m\u001b[0m\u001b[0;34m\u001b[0m\u001b[0m\n\u001b[0;32m----> 7\u001b[0;31m     \u001b[0mpca\u001b[0m\u001b[0;34m=\u001b[0m\u001b[0mPCA\u001b[0m\u001b[0;34m(\u001b[0m\u001b[0mn_components\u001b[0m\u001b[0;34m=\u001b[0m\u001b[0mi\u001b[0m\u001b[0;34m)\u001b[0m\u001b[0;34m.\u001b[0m\u001b[0mfit\u001b[0m\u001b[0;34m(\u001b[0m\u001b[0mdatanew1\u001b[0m\u001b[0;34m)\u001b[0m\u001b[0;34m\u001b[0m\u001b[0;34m\u001b[0m\u001b[0m\n\u001b[0m\u001b[1;32m      8\u001b[0m     \u001b[0mexplained_variance\u001b[0m\u001b[0;34m=\u001b[0m\u001b[0mpca\u001b[0m\u001b[0;34m.\u001b[0m\u001b[0mexplained_variance_ratio_\u001b[0m\u001b[0;34m\u001b[0m\u001b[0;34m\u001b[0m\u001b[0m\n\u001b[1;32m      9\u001b[0m     \u001b[0ma\u001b[0m\u001b[0;34m.\u001b[0m\u001b[0mappend\u001b[0m\u001b[0;34m(\u001b[0m\u001b[0mexplained_variance\u001b[0m\u001b[0;34m.\u001b[0m\u001b[0msum\u001b[0m\u001b[0;34m(\u001b[0m\u001b[0;34m)\u001b[0m\u001b[0;34m)\u001b[0m\u001b[0;34m\u001b[0m\u001b[0;34m\u001b[0m\u001b[0m\n",
      "\u001b[0;32m/opt/conda/envs/sds2020/lib/python3.7/site-packages/sklearn/decomposition/_pca.py\u001b[0m in \u001b[0;36mfit\u001b[0;34m(self, X, y)\u001b[0m\n\u001b[1;32m    349\u001b[0m             \u001b[0mReturns\u001b[0m \u001b[0mthe\u001b[0m \u001b[0minstance\u001b[0m \u001b[0mitself\u001b[0m\u001b[0;34m.\u001b[0m\u001b[0;34m\u001b[0m\u001b[0;34m\u001b[0m\u001b[0m\n\u001b[1;32m    350\u001b[0m         \"\"\"\n\u001b[0;32m--> 351\u001b[0;31m         \u001b[0mself\u001b[0m\u001b[0;34m.\u001b[0m\u001b[0m_fit\u001b[0m\u001b[0;34m(\u001b[0m\u001b[0mX\u001b[0m\u001b[0;34m)\u001b[0m\u001b[0;34m\u001b[0m\u001b[0;34m\u001b[0m\u001b[0m\n\u001b[0m\u001b[1;32m    352\u001b[0m         \u001b[0;32mreturn\u001b[0m \u001b[0mself\u001b[0m\u001b[0;34m\u001b[0m\u001b[0;34m\u001b[0m\u001b[0m\n\u001b[1;32m    353\u001b[0m \u001b[0;34m\u001b[0m\u001b[0m\n",
      "\u001b[0;32m/opt/conda/envs/sds2020/lib/python3.7/site-packages/sklearn/decomposition/_pca.py\u001b[0m in \u001b[0;36m_fit\u001b[0;34m(self, X)\u001b[0m\n\u001b[1;32m    421\u001b[0m         \u001b[0;31m# Call different fits for either full or truncated SVD\u001b[0m\u001b[0;34m\u001b[0m\u001b[0;34m\u001b[0m\u001b[0;34m\u001b[0m\u001b[0m\n\u001b[1;32m    422\u001b[0m         \u001b[0;32mif\u001b[0m \u001b[0mself\u001b[0m\u001b[0;34m.\u001b[0m\u001b[0m_fit_svd_solver\u001b[0m \u001b[0;34m==\u001b[0m \u001b[0;34m'full'\u001b[0m\u001b[0;34m:\u001b[0m\u001b[0;34m\u001b[0m\u001b[0;34m\u001b[0m\u001b[0m\n\u001b[0;32m--> 423\u001b[0;31m             \u001b[0;32mreturn\u001b[0m \u001b[0mself\u001b[0m\u001b[0;34m.\u001b[0m\u001b[0m_fit_full\u001b[0m\u001b[0;34m(\u001b[0m\u001b[0mX\u001b[0m\u001b[0;34m,\u001b[0m \u001b[0mn_components\u001b[0m\u001b[0;34m)\u001b[0m\u001b[0;34m\u001b[0m\u001b[0;34m\u001b[0m\u001b[0m\n\u001b[0m\u001b[1;32m    424\u001b[0m         \u001b[0;32melif\u001b[0m \u001b[0mself\u001b[0m\u001b[0;34m.\u001b[0m\u001b[0m_fit_svd_solver\u001b[0m \u001b[0;32min\u001b[0m \u001b[0;34m[\u001b[0m\u001b[0;34m'arpack'\u001b[0m\u001b[0;34m,\u001b[0m \u001b[0;34m'randomized'\u001b[0m\u001b[0;34m]\u001b[0m\u001b[0;34m:\u001b[0m\u001b[0;34m\u001b[0m\u001b[0;34m\u001b[0m\u001b[0m\n\u001b[1;32m    425\u001b[0m             \u001b[0;32mreturn\u001b[0m \u001b[0mself\u001b[0m\u001b[0;34m.\u001b[0m\u001b[0m_fit_truncated\u001b[0m\u001b[0;34m(\u001b[0m\u001b[0mX\u001b[0m\u001b[0;34m,\u001b[0m \u001b[0mn_components\u001b[0m\u001b[0;34m,\u001b[0m \u001b[0mself\u001b[0m\u001b[0;34m.\u001b[0m\u001b[0m_fit_svd_solver\u001b[0m\u001b[0;34m)\u001b[0m\u001b[0;34m\u001b[0m\u001b[0;34m\u001b[0m\u001b[0m\n",
      "\u001b[0;32m/opt/conda/envs/sds2020/lib/python3.7/site-packages/sklearn/decomposition/_pca.py\u001b[0m in \u001b[0;36m_fit_full\u001b[0;34m(self, X, n_components)\u001b[0m\n\u001b[1;32m    440\u001b[0m                              \u001b[0;34m\"min(n_samples, n_features)=%r with \"\u001b[0m\u001b[0;34m\u001b[0m\u001b[0;34m\u001b[0m\u001b[0m\n\u001b[1;32m    441\u001b[0m                              \u001b[0;34m\"svd_solver='full'\"\u001b[0m\u001b[0;34m\u001b[0m\u001b[0;34m\u001b[0m\u001b[0m\n\u001b[0;32m--> 442\u001b[0;31m                              % (n_components, min(n_samples, n_features)))\n\u001b[0m\u001b[1;32m    443\u001b[0m         \u001b[0;32melif\u001b[0m \u001b[0mn_components\u001b[0m \u001b[0;34m>=\u001b[0m \u001b[0;36m1\u001b[0m\u001b[0;34m:\u001b[0m\u001b[0;34m\u001b[0m\u001b[0;34m\u001b[0m\u001b[0m\n\u001b[1;32m    444\u001b[0m             \u001b[0;32mif\u001b[0m \u001b[0;32mnot\u001b[0m \u001b[0misinstance\u001b[0m\u001b[0;34m(\u001b[0m\u001b[0mn_components\u001b[0m\u001b[0;34m,\u001b[0m \u001b[0mnumbers\u001b[0m\u001b[0;34m.\u001b[0m\u001b[0mIntegral\u001b[0m\u001b[0;34m)\u001b[0m\u001b[0;34m:\u001b[0m\u001b[0;34m\u001b[0m\u001b[0;34m\u001b[0m\u001b[0m\n",
      "\u001b[0;31mValueError\u001b[0m: n_components=5 must be between 0 and min(n_samples, n_features)=4 with svd_solver='full'"
     ]
    },
    {
     "data": {
      "text/plain": [
       "<Figure size 432x288 with 0 Axes>"
      ]
     },
     "metadata": {},
     "output_type": "display_data"
    }
   ],
   "source": [
    "from sklearn.decomposition import PCA\n",
    "import matplotlib.pyplot as plt\n",
    "pca = PCA().fit(datanew1)\n",
    "plt.figure()\n",
    "a=[]\n",
    "for i in range(1,40):\n",
    "    pca=PCA(n_components=i).fit(datanew1)\n",
    "    explained_variance=pca.explained_variance_ratio_\n",
    "    a.append(explained_variance.sum())\n",
    "plt.plot(a)\n",
    "plt.xlabel(\"Number of Components\")\n",
    "plt.ylabel(\"Variance(%)\")\n",
    "plt.title(\"Pulsar Dataset Explained Variance\")\n",
    "plt.show()"
   ]
  },
  {
   "cell_type": "code",
   "execution_count": null,
   "metadata": {},
   "outputs": [],
   "source": []
  }
 ],
 "metadata": {
  "kernelspec": {
   "display_name": "Python 3",
   "language": "python",
   "name": "python3"
  },
  "language_info": {
   "codemirror_mode": {
    "name": "ipython",
    "version": 3
   },
   "file_extension": ".py",
   "mimetype": "text/x-python",
   "name": "python",
   "nbconvert_exporter": "python",
   "pygments_lexer": "ipython3",
   "version": "3.7.8"
  }
 },
 "nbformat": 4,
 "nbformat_minor": 4
}
